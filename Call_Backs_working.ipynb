{
  "nbformat": 4,
  "nbformat_minor": 0,
  "metadata": {
    "kernelspec": {
      "display_name": "Python 3",
      "language": "python",
      "name": "python3"
    },
    "language_info": {
      "codemirror_mode": {
        "name": "ipython",
        "version": 3
      },
      "file_extension": ".py",
      "mimetype": "text/x-python",
      "name": "python",
      "nbconvert_exporter": "python",
      "pygments_lexer": "ipython3",
      "version": "3.6.8"
    },
    "colab": {
      "provenance": []
    }
  },
  "cells": [
    {
      "cell_type": "markdown",
      "metadata": {
        "id": "AQDRNrY2NCXf"
      },
      "source": [
        "# Use of Custom Callbacks\n",
        "\n",
        "## Data Preparation\n",
        "1. The dataset was successfully downloaded from [this link](https://drive.google.com/file/d/15dCNcmKskcFVjs7R0ElQkR61Ex53uJpM/view?usp=sharing).\n",
        "2. The data was formatted and preprocessed as per the requirements. The model was trained to classify data into the categories shown in the image below:\n",
        "\n",
        "![Classification Categories](https://i.imgur.com/33ptOFy.png)\n",
        "\n",
        "---\n",
        "\n",
        "## Implementation Details\n",
        "\n",
        "### Custom Callback Function\n",
        "- A custom callback function was implemented to print the **Micro F1 Score** and **AUC Score** after each epoch. This allowed real-time monitoring of performance metrics during training.\n",
        "\n",
        "---\n",
        "\n",
        "### Model Saving\n",
        "- The model was saved at the end of each epoch where validation accuracy improved over the previous epoch. This ensured we retained the best-performing model.\n",
        "\n",
        "---\n",
        "\n",
        "### Learning Rate Decay\n",
        "- The learning rate was decayed dynamically based on the following conditions:\n",
        "  - **Condition 1:** If validation accuracy decreased compared to the previous epoch, the learning rate was reduced by 10%.\n",
        "  - **Condition 2:** For every 3rd epoch, the learning rate was decayed by 5%.\n",
        "  \n",
        "This strategy helped stabilize training and improved convergence.\n",
        "\n",
        "---\n",
        "\n",
        "### Training Termination\n",
        "- The training was terminated automatically if:\n",
        "  1. Any NaN values (weights or loss) were encountered during training.\n",
        "  2. Validation accuracy did not improve over the last 2 consecutive epochs.\n",
        "\n",
        "---\n",
        "\n",
        "### TensorBoard Analysis\n",
        "- TensorBoard was utilized to visualize the training process, analyze gradients, and evaluate the model's performance. Screenshots of the TensorBoard outputs were saved for documentation.\n",
        "\n",
        "---\n",
        "\n",
        "### Loss Function\n",
        "- **Categorical Cross-Entropy** was used as the loss function for all models.\n",
        "\n",
        "---\n",
        "\n",
        "## Models and Observations\n",
        "\n",
        "### Model-1\n",
        "- **Architecture:**\n",
        "  - Activation Function: `tanh` (for all layers except the output layer)\n",
        "  - Optimizer: `SGD` with momentum\n",
        "  - Weight Initializer: `RandomUniform(0,1)`\n",
        "  \n",
        "- **Observations:**\n",
        "  - The use of `tanh` activation helped smooth the gradients, but training was slightly slower compared to ReLU.\n",
        "  - Achieved stable validation accuracy after 15 epochs.\n",
        "\n",
        "---\n",
        "\n",
        "### Model-2\n",
        "- **Architecture:**\n",
        "  - Activation Function: `relu` (for all layers except the output layer)\n",
        "  - Optimizer: `SGD` with momentum\n",
        "  - Weight Initializer: `RandomUniform(0,1)`\n",
        "  \n",
        "- **Observations:**\n",
        "  - The `relu` activation led to faster convergence compared to `tanh`.\n",
        "  - Validation accuracy slightly fluctuated but showed consistent improvement overall.\n",
        "\n",
        "---\n",
        "\n",
        "### Model-3\n",
        "- **Architecture:**\n",
        "  - Activation Function: `relu` (for all layers except the output layer)\n",
        "  - Optimizer: `SGD` with momentum\n",
        "  - Weight Initializer: `he_uniform`\n",
        "  \n",
        "- **Observations:**\n",
        "  - The `he_uniform` initializer worked well with `relu` activation, resulting in faster training and improved generalization.\n",
        "  - Validation accuracy peaked earlier compared to the other models.\n",
        "\n",
        "---\n",
        "\n",
        "### Model-4\n",
        "- **Experimentation:**\n",
        "  - Various hyperparameters and configurations were tested to optimize performance.\n",
        "  - Achieved the best F1 Score and accuracy by adjusting the learning rate decay and batch size.\n",
        "  \n",
        "- **Observations:**\n",
        "  - The flexibility in tuning parameters resulted in significant improvements in both F1 and AUC scores.\n",
        "  - This model performed the best among the four.\n",
        "\n",
        "---\n",
        "\n",
        "## Conclusion\n",
        "- All models were successfully trained, and their performance metrics were analyzed.\n",
        "- The optimal model was identified based on validation accuracy, F1 Score, and AUC Score.\n",
        "- TensorBoard visualizations provided valuable insights into gradient flow and learning dynamics.\n"
      ]
    },
    {
      "cell_type": "code",
      "metadata": {
        "id": "9VXeC0JOdtOK"
      },
      "source": [
        "#importing libraries\n",
        "import tensorflow as tf\n",
        "import numpy as np\n",
        "import pandas as pd"
      ],
      "execution_count": null,
      "outputs": []
    },
    {
      "cell_type": "code",
      "metadata": {
        "id": "u2zdNf5NgBL0",
        "outputId": "1ea604cc-2bb3-4d65-9db9-19f215207ee5",
        "colab": {
          "base_uri": "https://localhost:8080/",
          "height": 34
        }
      },
      "source": [
        "tf.__version__"
      ],
      "execution_count": null,
      "outputs": [
        {
          "output_type": "execute_result",
          "data": {
            "text/plain": [
              "'2.2.0'"
            ]
          },
          "metadata": {
            "tags": []
          },
          "execution_count": 7
        }
      ]
    },
    {
      "cell_type": "markdown",
      "metadata": {
        "id": "tFEL--EDh2mb"
      },
      "source": [
        "#1"
      ]
    },
    {
      "cell_type": "code",
      "metadata": {
        "id": "rVmlfjnnh2xb"
      },
      "source": [
        "d=pd.read_csv('/content/drive/My Drive/Colab Notebooks/question 20/data.csv') #reading the csv file"
      ],
      "execution_count": null,
      "outputs": []
    },
    {
      "cell_type": "code",
      "metadata": {
        "id": "i6_ymzC2ok_6",
        "outputId": "9b9a0378-80a5-483e-c2cf-131c4407a47a",
        "colab": {
          "base_uri": "https://localhost:8080/",
          "height": 204
        }
      },
      "source": [
        "d.head(5)"
      ],
      "execution_count": null,
      "outputs": [
        {
          "output_type": "execute_result",
          "data": {
            "text/html": [
              "<div>\n",
              "<style scoped>\n",
              "    .dataframe tbody tr th:only-of-type {\n",
              "        vertical-align: middle;\n",
              "    }\n",
              "\n",
              "    .dataframe tbody tr th {\n",
              "        vertical-align: top;\n",
              "    }\n",
              "\n",
              "    .dataframe thead th {\n",
              "        text-align: right;\n",
              "    }\n",
              "</style>\n",
              "<table border=\"1\" class=\"dataframe\">\n",
              "  <thead>\n",
              "    <tr style=\"text-align: right;\">\n",
              "      <th></th>\n",
              "      <th>f1</th>\n",
              "      <th>f2</th>\n",
              "      <th>label</th>\n",
              "    </tr>\n",
              "  </thead>\n",
              "  <tbody>\n",
              "    <tr>\n",
              "      <th>0</th>\n",
              "      <td>0.450564</td>\n",
              "      <td>1.074305</td>\n",
              "      <td>0.0</td>\n",
              "    </tr>\n",
              "    <tr>\n",
              "      <th>1</th>\n",
              "      <td>0.085632</td>\n",
              "      <td>0.967682</td>\n",
              "      <td>0.0</td>\n",
              "    </tr>\n",
              "    <tr>\n",
              "      <th>2</th>\n",
              "      <td>0.117326</td>\n",
              "      <td>0.971521</td>\n",
              "      <td>1.0</td>\n",
              "    </tr>\n",
              "    <tr>\n",
              "      <th>3</th>\n",
              "      <td>0.982179</td>\n",
              "      <td>-0.380408</td>\n",
              "      <td>0.0</td>\n",
              "    </tr>\n",
              "    <tr>\n",
              "      <th>4</th>\n",
              "      <td>-0.720352</td>\n",
              "      <td>0.955850</td>\n",
              "      <td>0.0</td>\n",
              "    </tr>\n",
              "  </tbody>\n",
              "</table>\n",
              "</div>"
            ],
            "text/plain": [
              "         f1        f2  label\n",
              "0  0.450564  1.074305    0.0\n",
              "1  0.085632  0.967682    0.0\n",
              "2  0.117326  0.971521    1.0\n",
              "3  0.982179 -0.380408    0.0\n",
              "4 -0.720352  0.955850    0.0"
            ]
          },
          "metadata": {
            "tags": []
          },
          "execution_count": 4
        }
      ]
    },
    {
      "cell_type": "code",
      "metadata": {
        "id": "FxwsNRJVkmgz",
        "outputId": "9d91b5fe-8a6a-4444-c0c1-1632b7f705f7",
        "colab": {
          "base_uri": "https://localhost:8080/",
          "height": 34
        }
      },
      "source": [
        "d.shape"
      ],
      "execution_count": null,
      "outputs": [
        {
          "output_type": "execute_result",
          "data": {
            "text/plain": [
              "(20000, 3)"
            ]
          },
          "metadata": {
            "tags": []
          },
          "execution_count": 5
        }
      ]
    },
    {
      "cell_type": "code",
      "metadata": {
        "id": "BZzsAIVB9GbO"
      },
      "source": [
        "features = ['f1', 'f2'] #dividing features and label"
      ],
      "execution_count": null,
      "outputs": []
    },
    {
      "cell_type": "code",
      "metadata": {
        "id": "cn8FeoYGq4Y2"
      },
      "source": [
        "l=len(d)\n",
        "tr_l=int(0.8*l)\n",
        "te_l=int(0.2*l)"
      ],
      "execution_count": null,
      "outputs": []
    },
    {
      "cell_type": "code",
      "metadata": {
        "id": "GZ-SnyhIoftO"
      },
      "source": [
        "train_data_pd=d.iloc[:(tr_l)]"
      ],
      "execution_count": null,
      "outputs": []
    },
    {
      "cell_type": "code",
      "metadata": {
        "id": "h2cwqIHRrPJ6",
        "outputId": "018566a7-9925-4571-d884-ff96b6bac938",
        "colab": {
          "base_uri": "https://localhost:8080/",
          "height": 34
        }
      },
      "source": [
        "train_data_pd.shape"
      ],
      "execution_count": null,
      "outputs": [
        {
          "output_type": "execute_result",
          "data": {
            "text/plain": [
              "(16000, 3)"
            ]
          },
          "metadata": {
            "tags": []
          },
          "execution_count": 8
        }
      ]
    },
    {
      "cell_type": "code",
      "metadata": {
        "id": "-hLO6BAf9Nke"
      },
      "source": [
        "y_train=train_data_pd['label'].to_numpy() #dividing into x_train and y_train"
      ],
      "execution_count": null,
      "outputs": []
    },
    {
      "cell_type": "code",
      "metadata": {
        "id": "N8VdqvaxGDH5"
      },
      "source": [
        "X_train=train_data_pd[features].to_numpy()"
      ],
      "execution_count": null,
      "outputs": []
    },
    {
      "cell_type": "code",
      "metadata": {
        "id": "EwKlI4cIrUZw"
      },
      "source": [
        "test_data_pd=d.iloc[:(te_l)]"
      ],
      "execution_count": null,
      "outputs": []
    },
    {
      "cell_type": "code",
      "metadata": {
        "id": "ysCQ1j0kriY3",
        "outputId": "0cca5402-c323-4a5e-82cf-d089a675f450",
        "colab": {
          "base_uri": "https://localhost:8080/",
          "height": 34
        }
      },
      "source": [
        "test_data_pd.shape"
      ],
      "execution_count": null,
      "outputs": [
        {
          "output_type": "execute_result",
          "data": {
            "text/plain": [
              "(4000, 3)"
            ]
          },
          "metadata": {
            "tags": []
          },
          "execution_count": 13
        }
      ]
    },
    {
      "cell_type": "code",
      "metadata": {
        "id": "Kmo2OJo4GeGz"
      },
      "source": [
        "y_test=test_data_pd['label'].to_numpy()##dividing into x_train and y_train"
      ],
      "execution_count": null,
      "outputs": []
    },
    {
      "cell_type": "code",
      "metadata": {
        "id": "8sdMrZs5GhjV"
      },
      "source": [
        "X_test=test_data_pd[features].to_numpy()"
      ],
      "execution_count": null,
      "outputs": []
    },
    {
      "cell_type": "code",
      "metadata": {
        "id": "FkltfcwnHDHa",
        "outputId": "3aaa4391-bb01-44f1-b28d-97d16b9f740b",
        "colab": {
          "base_uri": "https://localhost:8080/",
          "height": 34
        }
      },
      "source": [
        "type(X_train)"
      ],
      "execution_count": null,
      "outputs": [
        {
          "output_type": "execute_result",
          "data": {
            "text/plain": [
              "numpy.ndarray"
            ]
          },
          "metadata": {
            "tags": []
          },
          "execution_count": 14
        }
      ]
    },
    {
      "cell_type": "code",
      "metadata": {
        "id": "N975hwxiNlUH"
      },
      "source": [
        "#importing some libraries\n",
        "from tensorflow.keras.layers import Dense,Input,Activation\n",
        "from tensorflow.keras.models import Model\n",
        "import random as rn"
      ],
      "execution_count": null,
      "outputs": []
    },
    {
      "cell_type": "markdown",
      "metadata": {
        "id": "gr_gi7ylcZo3"
      },
      "source": [
        "#2 and 3"
      ]
    },
    {
      "cell_type": "code",
      "metadata": {
        "id": "uuAFibNpU-4g",
        "colab": {
          "base_uri": "https://localhost:8080/",
          "height": 34
        },
        "outputId": "944293f6-7a8c-4132-bf3a-49e7bf47fab2"
      },
      "source": [
        "#using sklearn to ccompute the auc and  f1 score b/w y_perd and y_true\n",
        "import numpy as np\n",
        "from keras.callbacks import Callback\n",
        "from sklearn.metrics import f1_score, roc_curve,auc\n",
        "class Metrics(tf.keras.callbacks.Callback):\n",
        "    def __init__(self,training_data,validation_data):\n",
        "        self.x = training_data[0]\n",
        "        self.y = training_data[1]\n",
        "        self.x_val = validation_data[0]\n",
        "        self.y_val = validation_data[1]\n",
        "\n",
        "    def on_epoch_end(self, epoch, logs=None): #when an epoch ends\n",
        "        val_predict=self.model.predict(self.x_val)\n",
        "        #print(val_predict)\n",
        "        v=[]\n",
        "        for j in val_predict:\n",
        "            if j<0.5:\n",
        "                j=0\n",
        "            else: j=1\n",
        "            v.append(j)\n",
        "        #print(v)\n",
        "        val_targ = self.y_val\n",
        "        #print(val_targ)\n",
        "        _val_f1 = f1_score(val_targ, v) #calculating f1 score\n",
        "        fpr,tpr,t=roc_curve(val_targ,v,pos_label=1)\n",
        "        auc_score=auc(fpr,tpr) #calculating auc_score\n",
        "\n",
        "        print(\" F1 Score : {} ,  AUC Score : {} \".format(_val_f1,auc_score))\n",
        "\n",
        "\n",
        "metrics = Metrics(training_data=(X_train, y_train),validation_data=(X_test, y_test))"
      ],
      "execution_count": null,
      "outputs": [
        {
          "output_type": "stream",
          "text": [
            "Using TensorFlow backend.\n"
          ],
          "name": "stderr"
        }
      ]
    },
    {
      "cell_type": "code",
      "metadata": {
        "id": "fLgBqQpLMync"
      },
      "source": [
        "#Input layer\n",
        "input_layer = Input(shape=(2,))\n",
        "#Dense hidden layer\n",
        "layer1 = Dense(4,activation='sigmoid',kernel_initializer=tf.keras.initializers.glorot_normal(seed=30))(input_layer)\n",
        "layer2 = Dense(4,activation='sigmoid',kernel_initializer=tf.keras.initializers.glorot_normal(seed=30))(layer1)\n",
        "layer3 = Dense(2,activation='sigmoid',kernel_initializer=tf.keras.initializers.glorot_normal(seed=30))(layer2)\n",
        "layer4 = Dense(2,activation='sigmoid',kernel_initializer=tf.keras.initializers.glorot_normal(seed=30))(layer3)\n",
        "layer5 = Dense(4,activation='sigmoid',kernel_initializer=tf.keras.initializers.glorot_normal(seed=30))(layer4)\n",
        "#output layer\n",
        "output = Dense(1,activation='sigmoid',kernel_initializer=tf.keras.initializers.glorot_normal(seed=0))(layer5)\n",
        "#Creating a model\n",
        "model = Model(inputs=input_layer,outputs=output)"
      ],
      "execution_count": null,
      "outputs": []
    },
    {
      "cell_type": "code",
      "metadata": {
        "id": "msbawdFyNwGf"
      },
      "source": [
        " model.compile(optimizer='adam',\n",
        "                loss='binary_crossentropy',\n",
        "                metrics=['accuracy'])"
      ],
      "execution_count": null,
      "outputs": []
    },
    {
      "cell_type": "code",
      "metadata": {
        "id": "v-FYJwkRz_ee",
        "outputId": "6e7bb632-65a8-4661-f0f2-fd25a45dfdb8",
        "colab": {
          "base_uri": "https://localhost:8080/",
          "height": 799
        }
      },
      "source": [
        "model.fit(X_train,y_train,epochs=15,validation_data=(X_test,y_test),batch_size=1,callbacks=metrics) #fit models with above callback"
      ],
      "execution_count": null,
      "outputs": [
        {
          "output_type": "stream",
          "text": [
            "Epoch 1/15\n",
            "15961/16000 [============================>.] - ETA: 0s - loss: 0.6073 - accuracy: 0.6723 F1 Score : 0.6720281477758231 ,  AUC Score : 0.6737400182353692 \n",
            "16000/16000 [==============================] - 21s 1ms/step - loss: 0.6072 - accuracy: 0.6725 - val_loss: 0.6076 - val_accuracy: 0.6737\n",
            "Epoch 2/15\n",
            "15970/16000 [============================>.] - ETA: 0s - loss: 0.6063 - accuracy: 0.6693 F1 Score : 0.6746575342465753 ,  AUC Score : 0.6676125191535128 \n",
            "16000/16000 [==============================] - 21s 1ms/step - loss: 0.6063 - accuracy: 0.6691 - val_loss: 0.6118 - val_accuracy: 0.6675\n",
            "Epoch 3/15\n",
            "15991/16000 [============================>.] - ETA: 0s - loss: 0.6066 - accuracy: 0.6703 F1 Score : 0.6797739002211846 ,  AUC Score : 0.6743412804109283 \n",
            "16000/16000 [==============================] - 21s 1ms/step - loss: 0.6066 - accuracy: 0.6703 - val_loss: 0.6081 - val_accuracy: 0.6743\n",
            "Epoch 4/15\n",
            "15964/16000 [============================>.] - ETA: 0s - loss: 0.6051 - accuracy: 0.6716 F1 Score : 0.6914153132250581 ,  AUC Score : 0.6678622742110528 \n",
            "16000/16000 [==============================] - 21s 1ms/step - loss: 0.6054 - accuracy: 0.6713 - val_loss: 0.6142 - val_accuracy: 0.6675\n",
            "Epoch 5/15\n",
            "15976/16000 [============================>.] - ETA: 0s - loss: 0.6065 - accuracy: 0.6713 F1 Score : 0.6561927206074889 ,  AUC Score : 0.6715599740894753 \n",
            "16000/16000 [==============================] - 21s 1ms/step - loss: 0.6065 - accuracy: 0.6713 - val_loss: 0.6082 - val_accuracy: 0.6718\n",
            "Epoch 6/15\n",
            "15967/16000 [============================>.] - ETA: 0s - loss: 0.6056 - accuracy: 0.6730 F1 Score : 0.6664978475563433 ,  AUC Score : 0.6707062068006877 \n",
            "16000/16000 [==============================] - 21s 1ms/step - loss: 0.6057 - accuracy: 0.6729 - val_loss: 0.6087 - val_accuracy: 0.6708\n",
            "Epoch 7/15\n",
            "15993/16000 [============================>.] - ETA: 0s - loss: 0.6062 - accuracy: 0.6694 F1 Score : 0.6113989637305699 ,  AUC Score : 0.6619216539134918 \n",
            "16000/16000 [==============================] - 22s 1ms/step - loss: 0.6061 - accuracy: 0.6694 - val_loss: 0.6168 - val_accuracy: 0.6625\n",
            "Epoch 8/15\n",
            "15954/16000 [============================>.] - ETA: 0s - loss: 0.6055 - accuracy: 0.6709 F1 Score : 0.6747345023462584 ,  AUC Score : 0.6708187090788589 \n",
            "16000/16000 [==============================] - 21s 1ms/step - loss: 0.6056 - accuracy: 0.6709 - val_loss: 0.6089 - val_accuracy: 0.6708\n",
            "Epoch 9/15\n",
            "15999/16000 [============================>.] - ETA: 0s - loss: 0.6060 - accuracy: 0.6726 F1 Score : 0.6492878258532653 ,  AUC Score : 0.6734497623576877 \n",
            "16000/16000 [==============================] - 21s 1ms/step - loss: 0.6060 - accuracy: 0.6726 - val_loss: 0.6087 - val_accuracy: 0.6737\n",
            "Epoch 10/15\n",
            "15995/16000 [============================>.] - ETA: 0s - loss: 0.6054 - accuracy: 0.6711 F1 Score : 0.6373326045367587 ,  AUC Score : 0.6678798995679662 \n",
            "16000/16000 [==============================] - 21s 1ms/step - loss: 0.6055 - accuracy: 0.6710 - val_loss: 0.6092 - val_accuracy: 0.6683\n",
            "Epoch 11/15\n",
            "15961/16000 [============================>.] - ETA: 0s - loss: 0.6057 - accuracy: 0.6703 F1 Score : 0.6833691243140062 ,  AUC Score : 0.6684784116878367 \n",
            "16000/16000 [==============================] - 21s 1ms/step - loss: 0.6054 - accuracy: 0.6706 - val_loss: 0.6103 - val_accuracy: 0.6683\n",
            "Epoch 12/15\n",
            "15971/16000 [============================>.] - ETA: 0s - loss: 0.6050 - accuracy: 0.6723 F1 Score : 0.6538562779678864 ,  AUC Score : 0.6710374635086361 \n",
            "16000/16000 [==============================] - 21s 1ms/step - loss: 0.6052 - accuracy: 0.6721 - val_loss: 0.6072 - val_accuracy: 0.6712\n",
            "Epoch 13/15\n",
            "15983/16000 [============================>.] - ETA: 0s - loss: 0.6045 - accuracy: 0.6735 F1 Score : 0.6573830793483972 ,  AUC Score : 0.6737953943567356 \n",
            "16000/16000 [==============================] - 21s 1ms/step - loss: 0.6046 - accuracy: 0.6735 - val_loss: 0.6063 - val_accuracy: 0.6740\n",
            "Epoch 14/15\n",
            "15975/16000 [============================>.] - ETA: 0s - loss: 0.6055 - accuracy: 0.6714 F1 Score : 0.6812652068126521 ,  AUC Score : 0.6726373709067608 \n",
            "16000/16000 [==============================] - 21s 1ms/step - loss: 0.6056 - accuracy: 0.6713 - val_loss: 0.6077 - val_accuracy: 0.6725\n",
            "Epoch 15/15\n",
            "15988/16000 [============================>.] - ETA: 0s - loss: 0.6052 - accuracy: 0.6694 F1 Score : 0.6716679169792449 ,  AUC Score : 0.6717624781901833 \n",
            "16000/16000 [==============================] - 26s 2ms/step - loss: 0.6052 - accuracy: 0.6693 - val_loss: 0.6065 - val_accuracy: 0.6718\n"
          ],
          "name": "stdout"
        },
        {
          "output_type": "execute_result",
          "data": {
            "text/plain": [
              "<tensorflow.python.keras.callbacks.History at 0x7f65bf79c358>"
            ]
          },
          "metadata": {
            "tags": []
          },
          "execution_count": 244
        }
      ]
    },
    {
      "cell_type": "markdown",
      "metadata": {
        "id": "c3RWoc2zwUMR"
      },
      "source": [
        "#4\n"
      ]
    },
    {
      "cell_type": "code",
      "metadata": {
        "id": "4fYlxtyOuzyb"
      },
      "source": [
        "from tensorflow.keras.callbacks import ModelCheckpoint #importing bultin callback"
      ],
      "execution_count": null,
      "outputs": []
    },
    {
      "cell_type": "code",
      "metadata": {
        "id": "KC8rriOjwxjo"
      },
      "source": [
        "#defining the file path for saving the weights\n",
        "filepath=\"/content/drive/My Drive/Colab Notebooks/question 20/model_save/weights-{epoch:02d}-{val_accuracy:.4f}.hdf5\"\n",
        "checkpoint = ModelCheckpoint(filepath=filepath, monitor='val_accuracy',  save_weights_only=False, verbose=1, save_best_only=True, mode='max',save_freq='epoch')"
      ],
      "execution_count": null,
      "outputs": []
    },
    {
      "cell_type": "code",
      "metadata": {
        "id": "LwOAMI39weK_"
      },
      "source": [
        "#Input layer\n",
        "input_layer = Input(shape=(2,))\n",
        "#Dense hidden layer\n",
        "layer1 = Dense(4,activation='sigmoid',kernel_initializer=tf.keras.initializers.glorot_normal(seed=30))(input_layer)\n",
        "layer2 = Dense(4,activation='sigmoid',kernel_initializer=tf.keras.initializers.glorot_normal(seed=30))(layer1)\n",
        "layer3 = Dense(2,activation='sigmoid',kernel_initializer=tf.keras.initializers.glorot_normal(seed=30))(layer2)\n",
        "layer4 = Dense(2,activation='sigmoid',kernel_initializer=tf.keras.initializers.glorot_normal(seed=30))(layer3)\n",
        "layer5 = Dense(4,activation='sigmoid',kernel_initializer=tf.keras.initializers.glorot_normal(seed=30))(layer4)\n",
        "#output layer\n",
        "output = Dense(1,activation='sigmoid',kernel_initializer=tf.keras.initializers.glorot_normal(seed=0))(layer5)\n",
        "#Creating a model\n",
        "model = Model(inputs=input_layer,outputs=output)"
      ],
      "execution_count": null,
      "outputs": []
    },
    {
      "cell_type": "code",
      "metadata": {
        "id": "XpJB4LL5wiyR"
      },
      "source": [
        " model.compile(optimizer='adam',\n",
        "                loss='binary_crossentropy',\n",
        "                metrics=['accuracy'])"
      ],
      "execution_count": null,
      "outputs": []
    },
    {
      "cell_type": "code",
      "metadata": {
        "id": "wHi8PgHFxGBH",
        "outputId": "22006ddb-b90c-4abe-c5eb-77b0fae64f9a",
        "colab": {
          "base_uri": "https://localhost:8080/",
          "height": 1000
        }
      },
      "source": [
        "model.fit(X_train,y_train,epochs=15,validation_data=(X_test,y_test),batch_size=1,callbacks=checkpoint)"
      ],
      "execution_count": null,
      "outputs": [
        {
          "output_type": "stream",
          "text": [
            "Epoch 1/15\n",
            "15999/16000 [============================>.] - ETA: 0s - loss: 0.6930 - accuracy: 0.5053\n",
            "Epoch 00001: val_accuracy improved from -inf to 0.50225, saving model to /content/drive/My Drive/Colab Notebooks/question 20/model_save/weights-01-0.5023.hdf5\n",
            "16000/16000 [==============================] - 21s 1ms/step - loss: 0.6930 - accuracy: 0.5053 - val_loss: 0.6915 - val_accuracy: 0.5023\n",
            "Epoch 2/15\n",
            "15965/16000 [============================>.] - ETA: 0s - loss: 0.6899 - accuracy: 0.5179\n",
            "Epoch 00002: val_accuracy improved from 0.50225 to 0.54400, saving model to /content/drive/My Drive/Colab Notebooks/question 20/model_save/weights-02-0.5440.hdf5\n",
            "16000/16000 [==============================] - 21s 1ms/step - loss: 0.6899 - accuracy: 0.5181 - val_loss: 0.6875 - val_accuracy: 0.5440\n",
            "Epoch 3/15\n",
            "15966/16000 [============================>.] - ETA: 0s - loss: 0.6859 - accuracy: 0.5311\n",
            "Epoch 00003: val_accuracy did not improve from 0.54400\n",
            "16000/16000 [==============================] - 21s 1ms/step - loss: 0.6859 - accuracy: 0.5313 - val_loss: 0.6848 - val_accuracy: 0.5403\n",
            "Epoch 4/15\n",
            "15996/16000 [============================>.] - ETA: 0s - loss: 0.6847 - accuracy: 0.5381\n",
            "Epoch 00004: val_accuracy improved from 0.54400 to 0.54425, saving model to /content/drive/My Drive/Colab Notebooks/question 20/model_save/weights-04-0.5443.hdf5\n",
            "16000/16000 [==============================] - 21s 1ms/step - loss: 0.6847 - accuracy: 0.5381 - val_loss: 0.6828 - val_accuracy: 0.5443\n",
            "Epoch 5/15\n",
            "15990/16000 [============================>.] - ETA: 0s - loss: 0.6839 - accuracy: 0.5376\n",
            "Epoch 00005: val_accuracy improved from 0.54425 to 0.54575, saving model to /content/drive/My Drive/Colab Notebooks/question 20/model_save/weights-05-0.5458.hdf5\n",
            "16000/16000 [==============================] - 21s 1ms/step - loss: 0.6839 - accuracy: 0.5375 - val_loss: 0.6823 - val_accuracy: 0.5458\n",
            "Epoch 6/15\n",
            "15987/16000 [============================>.] - ETA: 0s - loss: 0.6833 - accuracy: 0.5367\n",
            "Epoch 00006: val_accuracy did not improve from 0.54575\n",
            "16000/16000 [==============================] - 21s 1ms/step - loss: 0.6834 - accuracy: 0.5368 - val_loss: 0.6815 - val_accuracy: 0.5420\n",
            "Epoch 7/15\n",
            "15996/16000 [============================>.] - ETA: 0s - loss: 0.6824 - accuracy: 0.5396\n",
            "Epoch 00007: val_accuracy improved from 0.54575 to 0.54725, saving model to /content/drive/My Drive/Colab Notebooks/question 20/model_save/weights-07-0.5472.hdf5\n",
            "16000/16000 [==============================] - 21s 1ms/step - loss: 0.6824 - accuracy: 0.5396 - val_loss: 0.6810 - val_accuracy: 0.5472\n",
            "Epoch 8/15\n",
            "15958/16000 [============================>.] - ETA: 0s - loss: 0.6815 - accuracy: 0.5421\n",
            "Epoch 00008: val_accuracy did not improve from 0.54725\n",
            "16000/16000 [==============================] - 21s 1ms/step - loss: 0.6815 - accuracy: 0.5422 - val_loss: 0.6799 - val_accuracy: 0.5447\n",
            "Epoch 9/15\n",
            "15959/16000 [============================>.] - ETA: 0s - loss: 0.6763 - accuracy: 0.5640\n",
            "Epoch 00009: val_accuracy improved from 0.54725 to 0.57775, saving model to /content/drive/My Drive/Colab Notebooks/question 20/model_save/weights-09-0.5778.hdf5\n",
            "16000/16000 [==============================] - 21s 1ms/step - loss: 0.6762 - accuracy: 0.5643 - val_loss: 0.6712 - val_accuracy: 0.5778\n",
            "Epoch 10/15\n",
            "15976/16000 [============================>.] - ETA: 0s - loss: 0.6680 - accuracy: 0.5843\n",
            "Epoch 00010: val_accuracy improved from 0.57775 to 0.59325, saving model to /content/drive/My Drive/Colab Notebooks/question 20/model_save/weights-10-0.5932.hdf5\n",
            "16000/16000 [==============================] - 21s 1ms/step - loss: 0.6680 - accuracy: 0.5843 - val_loss: 0.6687 - val_accuracy: 0.5932\n",
            "Epoch 11/15\n",
            "15967/16000 [============================>.] - ETA: 0s - loss: 0.6659 - accuracy: 0.5902\n",
            "Epoch 00011: val_accuracy did not improve from 0.59325\n",
            "16000/16000 [==============================] - 21s 1ms/step - loss: 0.6660 - accuracy: 0.5901 - val_loss: 0.6684 - val_accuracy: 0.5882\n",
            "Epoch 12/15\n",
            "15967/16000 [============================>.] - ETA: 0s - loss: 0.6656 - accuracy: 0.5923\n",
            "Epoch 00012: val_accuracy did not improve from 0.59325\n",
            "16000/16000 [==============================] - 21s 1ms/step - loss: 0.6656 - accuracy: 0.5921 - val_loss: 0.6689 - val_accuracy: 0.5900\n",
            "Epoch 13/15\n",
            "15970/16000 [============================>.] - ETA: 0s - loss: 0.6653 - accuracy: 0.5934\n",
            "Epoch 00013: val_accuracy did not improve from 0.59325\n",
            "16000/16000 [==============================] - 21s 1ms/step - loss: 0.6654 - accuracy: 0.5934 - val_loss: 0.6684 - val_accuracy: 0.5925\n",
            "Epoch 14/15\n",
            "15980/16000 [============================>.] - ETA: 0s - loss: 0.6643 - accuracy: 0.5937\n",
            "Epoch 00014: val_accuracy improved from 0.59325 to 0.59525, saving model to /content/drive/My Drive/Colab Notebooks/question 20/model_save/weights-14-0.5953.hdf5\n",
            "16000/16000 [==============================] - 21s 1ms/step - loss: 0.6642 - accuracy: 0.5938 - val_loss: 0.6670 - val_accuracy: 0.5953\n",
            "Epoch 15/15\n",
            "15977/16000 [============================>.] - ETA: 0s - loss: 0.6639 - accuracy: 0.5948\n",
            "Epoch 00015: val_accuracy did not improve from 0.59525\n",
            "16000/16000 [==============================] - 20s 1ms/step - loss: 0.6638 - accuracy: 0.5947 - val_loss: 0.6684 - val_accuracy: 0.5920\n"
          ],
          "name": "stdout"
        },
        {
          "output_type": "execute_result",
          "data": {
            "text/plain": [
              "<tensorflow.python.keras.callbacks.History at 0x7f65cb3ac198>"
            ]
          },
          "metadata": {
            "tags": []
          },
          "execution_count": 266
        }
      ]
    },
    {
      "cell_type": "markdown",
      "metadata": {
        "id": "wDIGAHDfzS4t"
      },
      "source": [
        "#5\n"
      ]
    },
    {
      "cell_type": "code",
      "metadata": {
        "id": "34-1_3JrFZYk"
      },
      "source": [
        "from tensorflow.keras.callbacks import LearningRateScheduler\n",
        "import keras.backend as K"
      ],
      "execution_count": null,
      "outputs": []
    },
    {
      "cell_type": "code",
      "metadata": {
        "id": "dAais5lH8MZw"
      },
      "source": [
        "# import math\n",
        "# def step_decay(epoch):\n",
        "#    initial_lrate = 0.001\n",
        "#    drop = 0.95\n",
        "#    epochs_drop = 3\n",
        "#    lrate = initial_lrate * math.pow(drop,\n",
        "#            math.floor((1+epoch)/epochs_drop))\n",
        "#    return lrate\n",
        "# lrate = LearningRateScheduler(step_decay)"
      ],
      "execution_count": null,
      "outputs": []
    },
    {
      "cell_type": "code",
      "metadata": {
        "id": "i8hQT5HwGzPK"
      },
      "source": [
        "#custom callback for decreasing the learning rate for given conditions\n",
        "class LossHistory(tf.keras.callbacks.Callback):\n",
        "    def on_train_begin(self, logs={}):\n",
        "       self.accuracy = []\n",
        "       self.l_r=[]\n",
        "    def on_epoch_end(self, epoch, logs={}):\n",
        "\n",
        "        self.accuracy.append(logs.get('val_accuracy'))\n",
        "\n",
        "        if epoch>0:\n",
        "            #print( '   epoch ', epoch)\n",
        "\n",
        "\n",
        "            if self.accuracy[epoch]<self.accuracy[epoch-1] :\n",
        "                    #print('e',self.accuracy[epoch])\n",
        "                    #print('e-1',self.accuracy[epoch-1])\n",
        "                (model.optimizer.lr)=model.optimizer.lr*(0.90)\n",
        "            if (epoch+1)%3==0:\n",
        "                model.optimizer.lr=model.optimizer.lr*(0.95)\n",
        "        self.l_r.append(K.eval(model.optimizer.lr))\n",
        "        print(' learning rate : ', self.l_r[epoch])\n",
        ""
      ],
      "execution_count": null,
      "outputs": []
    },
    {
      "cell_type": "code",
      "metadata": {
        "id": "PU2S3FdbG3Nf"
      },
      "source": [
        "loss_history = LossHistory()"
      ],
      "execution_count": null,
      "outputs": []
    },
    {
      "cell_type": "code",
      "metadata": {
        "id": "5EcWFg70Fg40"
      },
      "source": [
        "#Input layer\n",
        "input_layer = Input(shape=(2,))\n",
        "#Dense hidden layer\n",
        "layer1 = Dense(4,activation='sigmoid',kernel_initializer=tf.keras.initializers.glorot_normal(seed=30))(input_layer)\n",
        "layer2 = Dense(4,activation='sigmoid',kernel_initializer=tf.keras.initializers.glorot_normal(seed=30))(layer1)\n",
        "layer3 = Dense(2,activation='sigmoid',kernel_initializer=tf.keras.initializers.glorot_normal(seed=30))(layer2)\n",
        "layer4 = Dense(2,activation='sigmoid',kernel_initializer=tf.keras.initializers.glorot_normal(seed=30))(layer3)\n",
        "layer5 = Dense(4,activation='sigmoid',kernel_initializer=tf.keras.initializers.glorot_normal(seed=30))(layer4)\n",
        "#output layer\n",
        "output = Dense(1,activation='sigmoid',kernel_initializer=tf.keras.initializers.glorot_normal(seed=0))(layer5)\n",
        "#Creating a model\n",
        "model = Model(inputs=input_layer,outputs=output)"
      ],
      "execution_count": null,
      "outputs": []
    },
    {
      "cell_type": "code",
      "metadata": {
        "id": "UpIgtp1YFthn"
      },
      "source": [
        " model.compile(optimizer='adam',\n",
        "                loss='binary_crossentropy',\n",
        "                metrics=['accuracy'])"
      ],
      "execution_count": null,
      "outputs": []
    },
    {
      "cell_type": "code",
      "metadata": {
        "id": "6TQS47TWFviu",
        "outputId": "03100608-51d9-49b4-fcf6-82af8f8645df",
        "colab": {
          "base_uri": "https://localhost:8080/",
          "height": 799
        }
      },
      "source": [
        "model.fit(X_train,y_train,epochs=20,validation_data=(X_test,y_test),batch_size=1,callbacks=loss_history)"
      ],
      "execution_count": null,
      "outputs": [
        {
          "output_type": "stream",
          "text": [
            "Epoch 1/15\n",
            "15976/16000 [============================>.] - ETA: 0s - loss: 0.6953 - accuracy: 0.5036 learning rate :  0.001\n",
            "16000/16000 [==============================] - 20s 1ms/step - loss: 0.6953 - accuracy: 0.5034 - val_loss: 0.6932 - val_accuracy: 0.4978\n",
            "Epoch 2/15\n",
            "15971/16000 [============================>.] - ETA: 0s - loss: 0.6936 - accuracy: 0.4973 learning rate :  0.001\n",
            "16000/16000 [==============================] - 20s 1ms/step - loss: 0.6936 - accuracy: 0.4972 - val_loss: 0.6939 - val_accuracy: 0.5023\n",
            "Epoch 3/15\n",
            "15968/16000 [============================>.] - ETA: 0s - loss: 0.6935 - accuracy: 0.5036 learning rate :  0.00095\n",
            "16000/16000 [==============================] - 20s 1ms/step - loss: 0.6935 - accuracy: 0.5036 - val_loss: 0.6929 - val_accuracy: 0.5428\n",
            "Epoch 4/15\n",
            "15953/16000 [============================>.] - ETA: 0s - loss: 0.6931 - accuracy: 0.5025 learning rate :  0.000855\n",
            "16000/16000 [==============================] - 20s 1ms/step - loss: 0.6931 - accuracy: 0.5025 - val_loss: 0.6920 - val_accuracy: 0.5023\n",
            "Epoch 5/15\n",
            "15966/16000 [============================>.] - ETA: 0s - loss: 0.6909 - accuracy: 0.5239 learning rate :  0.000855\n",
            "16000/16000 [==============================] - 20s 1ms/step - loss: 0.6909 - accuracy: 0.5241 - val_loss: 0.6880 - val_accuracy: 0.5428\n",
            "Epoch 6/15\n",
            "15994/16000 [============================>.] - ETA: 0s - loss: 0.6819 - accuracy: 0.5768 learning rate :  0.00081224996\n",
            "16000/16000 [==============================] - 20s 1ms/step - loss: 0.6819 - accuracy: 0.5768 - val_loss: 0.6714 - val_accuracy: 0.6155\n",
            "Epoch 7/15\n",
            "15976/16000 [============================>.] - ETA: 0s - loss: 0.6571 - accuracy: 0.6237 learning rate :  0.00081224996\n",
            "16000/16000 [==============================] - 20s 1ms/step - loss: 0.6571 - accuracy: 0.6239 - val_loss: 0.6384 - val_accuracy: 0.6428\n",
            "Epoch 8/15\n",
            "15998/16000 [============================>.] - ETA: 0s - loss: 0.6220 - accuracy: 0.6569 learning rate :  0.00081224996\n",
            "16000/16000 [==============================] - 21s 1ms/step - loss: 0.6220 - accuracy: 0.6569 - val_loss: 0.6173 - val_accuracy: 0.6658\n",
            "Epoch 9/15\n",
            "15998/16000 [============================>.] - ETA: 0s - loss: 0.6117 - accuracy: 0.6664 learning rate :  0.0006944737\n",
            "16000/16000 [==============================] - 20s 1ms/step - loss: 0.6116 - accuracy: 0.6664 - val_loss: 0.6173 - val_accuracy: 0.6612\n",
            "Epoch 10/15\n",
            "15980/16000 [============================>.] - ETA: 0s - loss: 0.6095 - accuracy: 0.6697 learning rate :  0.0006944737\n",
            "16000/16000 [==============================] - 20s 1ms/step - loss: 0.6096 - accuracy: 0.6696 - val_loss: 0.6116 - val_accuracy: 0.6718\n",
            "Epoch 11/15\n",
            "15956/16000 [============================>.] - ETA: 0s - loss: 0.6087 - accuracy: 0.6702 learning rate :  0.0006944737\n",
            "16000/16000 [==============================] - 21s 1ms/step - loss: 0.6085 - accuracy: 0.6704 - val_loss: 0.6097 - val_accuracy: 0.6718\n",
            "Epoch 12/15\n",
            "15983/16000 [============================>.] - ETA: 0s - loss: 0.6074 - accuracy: 0.6692 learning rate :  0.00065975\n",
            "16000/16000 [==============================] - 21s 1ms/step - loss: 0.6075 - accuracy: 0.6691 - val_loss: 0.6105 - val_accuracy: 0.6718\n",
            "Epoch 13/15\n",
            "15995/16000 [============================>.] - ETA: 0s - loss: 0.6068 - accuracy: 0.6703 learning rate :  0.000593775\n",
            "16000/16000 [==============================] - 21s 1ms/step - loss: 0.6068 - accuracy: 0.6704 - val_loss: 0.6125 - val_accuracy: 0.6687\n",
            "Epoch 14/15\n",
            "15995/16000 [============================>.] - ETA: 0s - loss: 0.6061 - accuracy: 0.6724 learning rate :  0.0005343975\n",
            "16000/16000 [==============================] - 21s 1ms/step - loss: 0.6061 - accuracy: 0.6724 - val_loss: 0.6159 - val_accuracy: 0.6610\n",
            "Epoch 15/15\n",
            "15966/16000 [============================>.] - ETA: 0s - loss: 0.6062 - accuracy: 0.6711 learning rate :  0.0005076776\n",
            "16000/16000 [==============================] - 21s 1ms/step - loss: 0.6062 - accuracy: 0.6711 - val_loss: 0.6078 - val_accuracy: 0.6750\n"
          ],
          "name": "stdout"
        },
        {
          "output_type": "execute_result",
          "data": {
            "text/plain": [
              "<tensorflow.python.keras.callbacks.History at 0x7f70d3eaf4e0>"
            ]
          },
          "metadata": {
            "tags": []
          },
          "execution_count": 154
        }
      ]
    },
    {
      "cell_type": "markdown",
      "metadata": {
        "id": "Q6D-PF9eHXrm"
      },
      "source": [
        "#6"
      ]
    },
    {
      "cell_type": "code",
      "metadata": {
        "id": "pMfNl9ajHZHg"
      },
      "source": [
        "# class TerminateNaN(tf.keras.callbacks.Callback):\n",
        "\n",
        "#     def on_epoch_end(self, epoch, logs={}):\n",
        "#         loss = logs.get('loss')\n",
        "#         if loss is not None:\n",
        "#             if np.isnan(loss) or np.isinf(loss):\n",
        "#                 print(\"Invalid loss and terminated at epoch {}\".format(epoch))\n",
        "#                 self.model.stop_training = True"
      ],
      "execution_count": null,
      "outputs": []
    },
    {
      "cell_type": "code",
      "metadata": {
        "id": "bIV4PiZuIRrA"
      },
      "source": [
        "#when any NaN values occur i.e in weights or call the built in callback will work\n",
        "t=tf.keras.callbacks.TerminateOnNaN()"
      ],
      "execution_count": null,
      "outputs": []
    },
    {
      "cell_type": "code",
      "metadata": {
        "id": "7xw6wYzKIbPi"
      },
      "source": [
        "#Input layer\n",
        "input_layer = Input(shape=(2,))\n",
        "#Dense hidden layer\n",
        "layer1 = Dense(4,activation='sigmoid',kernel_initializer=tf.keras.initializers.glorot_normal(seed=30))(input_layer)\n",
        "layer2 = Dense(4,activation='sigmoid',kernel_initializer=tf.keras.initializers.glorot_normal(seed=30))(layer1)\n",
        "layer3 = Dense(2,activation='sigmoid',kernel_initializer=tf.keras.initializers.glorot_normal(seed=30))(layer2)\n",
        "layer4 = Dense(2,activation='sigmoid',kernel_initializer=tf.keras.initializers.glorot_normal(seed=30))(layer3)\n",
        "layer5 = Dense(4,activation='sigmoid',kernel_initializer=tf.keras.initializers.glorot_normal(seed=30))(layer4)\n",
        "#output layer\n",
        "output = Dense(1,activation='sigmoid',kernel_initializer=tf.keras.initializers.glorot_normal(seed=0))(layer5)\n",
        "#Creating a model\n",
        "model = Model(inputs=input_layer,outputs=output)"
      ],
      "execution_count": null,
      "outputs": []
    },
    {
      "cell_type": "code",
      "metadata": {
        "id": "-xQCt2FaIdQI"
      },
      "source": [
        " model.compile(optimizer='adam',\n",
        "                loss='binary_crossentropy',\n",
        "                metrics=['accuracy'])"
      ],
      "execution_count": null,
      "outputs": []
    },
    {
      "cell_type": "code",
      "metadata": {
        "id": "vg31TV8gIfoR",
        "outputId": "9069798a-b481-407b-e87d-1a6fb969acab",
        "colab": {
          "base_uri": "https://localhost:8080/",
          "height": 714
        }
      },
      "source": [
        "model.fit(X_train,y_train,epochs=20,validation_data=(X_test,y_test),batch_size=50,callbacks=t)"
      ],
      "execution_count": null,
      "outputs": [
        {
          "output_type": "stream",
          "text": [
            "Epoch 1/20\n",
            "320/320 [==============================] - 1s 2ms/step - loss: 0.7210 - accuracy: 0.5035 - val_loss: 0.6951 - val_accuracy: 0.5023\n",
            "Epoch 2/20\n",
            "320/320 [==============================] - 1s 2ms/step - loss: 0.6935 - accuracy: 0.5035 - val_loss: 0.6931 - val_accuracy: 0.5023\n",
            "Epoch 3/20\n",
            "320/320 [==============================] - 1s 2ms/step - loss: 0.6932 - accuracy: 0.5021 - val_loss: 0.6932 - val_accuracy: 0.4978\n",
            "Epoch 4/20\n",
            "320/320 [==============================] - 1s 2ms/step - loss: 0.6932 - accuracy: 0.4997 - val_loss: 0.6931 - val_accuracy: 0.5023\n",
            "Epoch 5/20\n",
            "320/320 [==============================] - 1s 2ms/step - loss: 0.6932 - accuracy: 0.5008 - val_loss: 0.6931 - val_accuracy: 0.5023\n",
            "Epoch 6/20\n",
            "320/320 [==============================] - 1s 2ms/step - loss: 0.6932 - accuracy: 0.5012 - val_loss: 0.6931 - val_accuracy: 0.5023\n",
            "Epoch 7/20\n",
            "320/320 [==============================] - 0s 2ms/step - loss: 0.6931 - accuracy: 0.5018 - val_loss: 0.6932 - val_accuracy: 0.5023\n",
            "Epoch 8/20\n",
            "320/320 [==============================] - 1s 2ms/step - loss: 0.6932 - accuracy: 0.4994 - val_loss: 0.6934 - val_accuracy: 0.5023\n",
            "Epoch 9/20\n",
            "320/320 [==============================] - 1s 2ms/step - loss: 0.6932 - accuracy: 0.5009 - val_loss: 0.6932 - val_accuracy: 0.5023\n",
            "Epoch 10/20\n",
            "320/320 [==============================] - 1s 2ms/step - loss: 0.6932 - accuracy: 0.4997 - val_loss: 0.6931 - val_accuracy: 0.5023\n",
            "Epoch 11/20\n",
            "320/320 [==============================] - 1s 2ms/step - loss: 0.6931 - accuracy: 0.5022 - val_loss: 0.6931 - val_accuracy: 0.5023\n",
            "Epoch 12/20\n",
            "320/320 [==============================] - 1s 2ms/step - loss: 0.6932 - accuracy: 0.4940 - val_loss: 0.6931 - val_accuracy: 0.5355\n",
            "Epoch 13/20\n",
            "320/320 [==============================] - 1s 2ms/step - loss: 0.6932 - accuracy: 0.4956 - val_loss: 0.6931 - val_accuracy: 0.5023\n",
            "Epoch 14/20\n",
            "320/320 [==============================] - 0s 2ms/step - loss: 0.6931 - accuracy: 0.5037 - val_loss: 0.6930 - val_accuracy: 0.4595\n",
            "Epoch 15/20\n",
            "320/320 [==============================] - 0s 2ms/step - loss: 0.6931 - accuracy: 0.5027 - val_loss: 0.6932 - val_accuracy: 0.5023\n",
            "Epoch 16/20\n",
            "320/320 [==============================] - 1s 2ms/step - loss: 0.6931 - accuracy: 0.5071 - val_loss: 0.6931 - val_accuracy: 0.5023\n",
            "Epoch 17/20\n",
            "320/320 [==============================] - 1s 2ms/step - loss: 0.6931 - accuracy: 0.5063 - val_loss: 0.6930 - val_accuracy: 0.5023\n",
            "Epoch 18/20\n",
            "320/320 [==============================] - 0s 2ms/step - loss: 0.6930 - accuracy: 0.5047 - val_loss: 0.6930 - val_accuracy: 0.5017\n",
            "Epoch 19/20\n",
            "320/320 [==============================] - 0s 2ms/step - loss: 0.6930 - accuracy: 0.5079 - val_loss: 0.6929 - val_accuracy: 0.5023\n",
            "Epoch 20/20\n",
            "320/320 [==============================] - 1s 2ms/step - loss: 0.6929 - accuracy: 0.5053 - val_loss: 0.6928 - val_accuracy: 0.5023\n"
          ],
          "name": "stdout"
        },
        {
          "output_type": "execute_result",
          "data": {
            "text/plain": [
              "<tensorflow.python.keras.callbacks.History at 0x7f70dadbe198>"
            ]
          },
          "metadata": {
            "tags": []
          },
          "execution_count": 158
        }
      ]
    },
    {
      "cell_type": "markdown",
      "metadata": {
        "id": "Y6Y-tdVFIr10"
      },
      "source": [
        "#7"
      ]
    },
    {
      "cell_type": "code",
      "metadata": {
        "id": "kMqMgDj2ItGf"
      },
      "source": [
        "#importing the ealy stopping for val_accuracy\n",
        "ES=tf.keras.callbacks.EarlyStopping(\n",
        "    monitor='val_accuracy', min_delta=0, patience=2, verbose=0, mode='auto',\n",
        "    baseline=None, restore_best_weights=False\n",
        ")"
      ],
      "execution_count": null,
      "outputs": []
    },
    {
      "cell_type": "code",
      "metadata": {
        "id": "-9NlQ8O2JpTg"
      },
      "source": [
        "#Input layer\n",
        "input_layer = Input(shape=(2,))\n",
        "#Dense hidden layer\n",
        "layer1 = Dense(4,activation='sigmoid',kernel_initializer=tf.keras.initializers.glorot_normal(seed=30))(input_layer)\n",
        "layer2 = Dense(4,activation='sigmoid',kernel_initializer=tf.keras.initializers.glorot_normal(seed=30))(layer1)\n",
        "layer3 = Dense(2,activation='sigmoid',kernel_initializer=tf.keras.initializers.glorot_normal(seed=30))(layer2)\n",
        "layer4 = Dense(2,activation='sigmoid',kernel_initializer=tf.keras.initializers.glorot_normal(seed=30))(layer3)\n",
        "layer5 = Dense(4,activation='sigmoid',kernel_initializer=tf.keras.initializers.glorot_normal(seed=30))(layer4)\n",
        "#output layer\n",
        "output = Dense(1,activation='sigmoid',kernel_initializer=tf.keras.initializers.glorot_normal(seed=0))(layer5)\n",
        "#Creating a model\n",
        "model = Model(inputs=input_layer,outputs=output)"
      ],
      "execution_count": null,
      "outputs": []
    },
    {
      "cell_type": "code",
      "metadata": {
        "id": "SxPPS4NgJq5h"
      },
      "source": [
        " model.compile(optimizer='adam',\n",
        "                loss='binary_crossentropy',\n",
        "                metrics=['accuracy'])"
      ],
      "execution_count": null,
      "outputs": []
    },
    {
      "cell_type": "code",
      "metadata": {
        "id": "s_wmj71GJsTB",
        "outputId": "e4504926-ba2e-4166-89c5-eefb5e312ed7",
        "colab": {
          "base_uri": "https://localhost:8080/",
          "height": 136
        }
      },
      "source": [
        "model.fit(X_train,y_train,epochs=15,validation_data=(X_test,y_test),batch_size=1,callbacks=ES)"
      ],
      "execution_count": null,
      "outputs": [
        {
          "output_type": "stream",
          "text": [
            "Epoch 1/15\n",
            "16000/16000 [==============================] - 21s 1ms/step - loss: 0.6952 - accuracy: 0.4994 - val_loss: 0.6931 - val_accuracy: 0.5023\n",
            "Epoch 2/15\n",
            "16000/16000 [==============================] - 21s 1ms/step - loss: 0.6937 - accuracy: 0.4968 - val_loss: 0.6933 - val_accuracy: 0.5023\n",
            "Epoch 3/15\n",
            "16000/16000 [==============================] - 21s 1ms/step - loss: 0.6936 - accuracy: 0.4946 - val_loss: 0.6933 - val_accuracy: 0.4978\n"
          ],
          "name": "stdout"
        },
        {
          "output_type": "execute_result",
          "data": {
            "text/plain": [
              "<tensorflow.python.keras.callbacks.History at 0x7f70d4493b00>"
            ]
          },
          "metadata": {
            "tags": []
          },
          "execution_count": 162
        }
      ]
    },
    {
      "cell_type": "markdown",
      "metadata": {
        "id": "G6xGA39aJzxk"
      },
      "source": [
        "#9"
      ]
    },
    {
      "cell_type": "code",
      "metadata": {
        "id": "C_CvyPRTdAgt"
      },
      "source": [
        "#defining loss as cross entropy"
      ],
      "execution_count": null,
      "outputs": []
    },
    {
      "cell_type": "code",
      "metadata": {
        "id": "8LffLzEjJ7Xj"
      },
      "source": [
        "#Input layer\n",
        "input_layer = Input(shape=(2,))\n",
        "#Dense hidden layer\n",
        "layer1 = Dense(4,activation='sigmoid',kernel_initializer=tf.keras.initializers.glorot_normal(seed=30))(input_layer)\n",
        "layer2 = Dense(4,activation='sigmoid',kernel_initializer=tf.keras.initializers.glorot_normal(seed=30))(layer1)\n",
        "layer3 = Dense(2,activation='sigmoid',kernel_initializer=tf.keras.initializers.glorot_normal(seed=30))(layer2)\n",
        "layer4 = Dense(2,activation='sigmoid',kernel_initializer=tf.keras.initializers.glorot_normal(seed=30))(layer3)\n",
        "layer5 = Dense(4,activation='sigmoid',kernel_initializer=tf.keras.initializers.glorot_normal(seed=30))(layer4)\n",
        "#output layer\n",
        "output = Dense(1,activation='sigmoid',kernel_initializer=tf.keras.initializers.glorot_normal(seed=0))(layer5)\n",
        "#Creating a model\n",
        "model = Model(inputs=input_layer,outputs=output)"
      ],
      "execution_count": null,
      "outputs": []
    },
    {
      "cell_type": "code",
      "metadata": {
        "id": "EKb7VuqYKEf6"
      },
      "source": [
        "\n",
        " model.compile(optimizer='adam',\n",
        "                loss='BinaryCrossentropy',\n",
        "                metrics=['accuracy'])"
      ],
      "execution_count": null,
      "outputs": []
    },
    {
      "cell_type": "code",
      "metadata": {
        "id": "eXB-u3UpKJla",
        "outputId": "e991f9de-d8ac-4f8b-e69c-e02917f2e094",
        "colab": {
          "base_uri": "https://localhost:8080/",
          "height": 544
        }
      },
      "source": [
        "model.fit(X_train,y_train,epochs=15,validation_data=(X_test,y_test),batch_size=20)\n"
      ],
      "execution_count": null,
      "outputs": [
        {
          "output_type": "stream",
          "text": [
            "Epoch 1/15\n",
            "800/800 [==============================] - 1s 2ms/step - loss: 0.7055 - accuracy: 0.5035 - val_loss: 0.6931 - val_accuracy: 0.4863\n",
            "Epoch 2/15\n",
            "800/800 [==============================] - 1s 1ms/step - loss: 0.6932 - accuracy: 0.5032 - val_loss: 0.6933 - val_accuracy: 0.5023\n",
            "Epoch 3/15\n",
            "800/800 [==============================] - 1s 2ms/step - loss: 0.6933 - accuracy: 0.4979 - val_loss: 0.6931 - val_accuracy: 0.5023\n",
            "Epoch 4/15\n",
            "800/800 [==============================] - 1s 1ms/step - loss: 0.6933 - accuracy: 0.4978 - val_loss: 0.6931 - val_accuracy: 0.5023\n",
            "Epoch 5/15\n",
            "800/800 [==============================] - 1s 1ms/step - loss: 0.6931 - accuracy: 0.5043 - val_loss: 0.6935 - val_accuracy: 0.5023\n",
            "Epoch 6/15\n",
            "800/800 [==============================] - 1s 1ms/step - loss: 0.6933 - accuracy: 0.4956 - val_loss: 0.6933 - val_accuracy: 0.5023\n",
            "Epoch 7/15\n",
            "800/800 [==============================] - 1s 2ms/step - loss: 0.6933 - accuracy: 0.5025 - val_loss: 0.6931 - val_accuracy: 0.5023\n",
            "Epoch 8/15\n",
            "800/800 [==============================] - 1s 1ms/step - loss: 0.6932 - accuracy: 0.5057 - val_loss: 0.6933 - val_accuracy: 0.5023\n",
            "Epoch 9/15\n",
            "800/800 [==============================] - 1s 1ms/step - loss: 0.6932 - accuracy: 0.4976 - val_loss: 0.6931 - val_accuracy: 0.5023\n",
            "Epoch 10/15\n",
            "800/800 [==============================] - 1s 2ms/step - loss: 0.6932 - accuracy: 0.5057 - val_loss: 0.6930 - val_accuracy: 0.5023\n",
            "Epoch 11/15\n",
            "800/800 [==============================] - 1s 2ms/step - loss: 0.6931 - accuracy: 0.5044 - val_loss: 0.6930 - val_accuracy: 0.5023\n",
            "Epoch 12/15\n",
            "800/800 [==============================] - 1s 1ms/step - loss: 0.6930 - accuracy: 0.5058 - val_loss: 0.6929 - val_accuracy: 0.5023\n",
            "Epoch 13/15\n",
            "800/800 [==============================] - 1s 1ms/step - loss: 0.6929 - accuracy: 0.5107 - val_loss: 0.6928 - val_accuracy: 0.5023\n",
            "Epoch 14/15\n",
            "800/800 [==============================] - 1s 1ms/step - loss: 0.6928 - accuracy: 0.5064 - val_loss: 0.6927 - val_accuracy: 0.5415\n",
            "Epoch 15/15\n",
            "800/800 [==============================] - 1s 1ms/step - loss: 0.6927 - accuracy: 0.5067 - val_loss: 0.6925 - val_accuracy: 0.5332\n"
          ],
          "name": "stdout"
        },
        {
          "output_type": "execute_result",
          "data": {
            "text/plain": [
              "<tensorflow.python.keras.callbacks.History at 0x7f70d3e44748>"
            ]
          },
          "metadata": {
            "tags": []
          },
          "execution_count": 167
        }
      ]
    },
    {
      "cell_type": "code",
      "metadata": {
        "id": "7c3ihTCE3xct"
      },
      "source": [
        "callback_list=[metrics,checkpoint,loss_history,t,ES]"
      ],
      "execution_count": null,
      "outputs": []
    },
    {
      "cell_type": "markdown",
      "metadata": {
        "id": "R1bBZ2xBKMFW"
      },
      "source": [
        "#Model 1"
      ]
    },
    {
      "cell_type": "code",
      "metadata": {
        "id": "jQVqqmt39Zcl"
      },
      "source": [
        "#loading the tensorboard extension\n",
        "%load_ext tensorboard\n",
        "import datetime"
      ],
      "execution_count": null,
      "outputs": []
    },
    {
      "cell_type": "code",
      "metadata": {
        "id": "nCKEbqrG9jCQ"
      },
      "source": [
        "!rm -rf ./logs/  # clearing the previous logs"
      ],
      "execution_count": null,
      "outputs": []
    },
    {
      "cell_type": "code",
      "metadata": {
        "id": "Ll4pJNYc9jnx"
      },
      "source": [
        "log_dir = \"logs/fit/\" + datetime.datetime.now().strftime(\"%Y%m%d-%H%M%S\") # defing the log_dir"
      ],
      "execution_count": null,
      "outputs": []
    },
    {
      "cell_type": "code",
      "metadata": {
        "id": "-de_GI3r98Kk",
        "outputId": "6c52ccaf-ebfb-4cfc-bdf8-6b363bebcdfc",
        "colab": {
          "base_uri": "https://localhost:8080/",
          "height": 34
        }
      },
      "source": [
        "#built-in tensorboard call back\n",
        "tensorboard_callback = tf.keras.callbacks.TensorBoard(log_dir=log_dir, histogram_freq=1,write_graph=True,write_grads=True)"
      ],
      "execution_count": null,
      "outputs": [
        {
          "output_type": "stream",
          "text": [
            "WARNING:tensorflow:`write_grads` will be ignored in TensorFlow 2.0 for the `TensorBoard` Callback.\n"
          ],
          "name": "stdout"
        }
      ]
    },
    {
      "cell_type": "code",
      "metadata": {
        "id": "KmoXEn2o8ngp"
      },
      "source": [
        "callback_list=[metrics,checkpoint,loss_history,t,ES,tensorboard_callback]"
      ],
      "execution_count": null,
      "outputs": []
    },
    {
      "cell_type": "code",
      "metadata": {
        "id": "93IjMedhKR5j"
      },
      "source": [
        "#Input layer\n",
        "input_layer = Input(shape=(2,))\n",
        "#Dense hidden layer\n",
        "layer1 = Dense(4,activation='tanh',kernel_initializer=tf.random_uniform_initializer(minval=0, maxval=1))(input_layer)\n",
        "layer2 = Dense(4,activation='tanh',kernel_initializer=tf.random_uniform_initializer(minval=0, maxval=1))(layer1)\n",
        "layer3 = Dense(2,activation='tanh',kernel_initializer=tf.random_uniform_initializer(minval=0, maxval=1))(layer2)\n",
        "layer4 = Dense(2,activation='tanh',kernel_initializer=tf.random_uniform_initializer(minval=0, maxval=1))(layer3)\n",
        "layer5 = Dense(4,activation='tanh',kernel_initializer=tf.random_uniform_initializer(minval=0, maxval=1))(layer4)\n",
        "#output layer\n",
        "output = Dense(1,activation='sigmoid',kernel_initializer=tf.keras.initializers.glorot_normal(seed=0))(layer5)\n",
        "#Creating a model\n",
        "model = Model(inputs=input_layer,outputs=output)"
      ],
      "execution_count": null,
      "outputs": []
    },
    {
      "cell_type": "code",
      "metadata": {
        "id": "-zjcgE-_KUiO"
      },
      "source": [
        " optimizer = tf.keras.optimizers.SGD(learning_rate=0.001,momentum=0.9)\n",
        " model.compile(optimizer=optimizer,\n",
        "                loss='binary_crossentropy',\n",
        "                metrics=['accuracy'])"
      ],
      "execution_count": null,
      "outputs": []
    },
    {
      "cell_type": "code",
      "metadata": {
        "id": "AavTfRdEKWBH",
        "outputId": "5c578289-5dba-4bab-e73f-d6833b4a7763",
        "colab": {
          "base_uri": "https://localhost:8080/",
          "height": 1000
        }
      },
      "source": [
        "model.fit(X_train,y_train,epochs=20,validation_data=(X_test,y_test),batch_size=1,callbacks=callback_list)\n"
      ],
      "execution_count": null,
      "outputs": [
        {
          "output_type": "stream",
          "text": [
            "Epoch 1/20\n",
            "15985/16000 [============================>.] - ETA: 0s - loss: 0.6955 - accuracy: 0.5127 F1 Score : 0.2680571649285438 ,  AUC Score : 0.5246732496333051 \n",
            "\n",
            "Epoch 00001: val_accuracy improved from -inf to 0.52625, saving model to /content/drive/My Drive/Colab Notebooks/question 20/model_save/weights-01-0.5263.hdf5\n",
            " learning rate :  0.001\n",
            "16000/16000 [==============================] - 25s 2ms/step - loss: 0.6955 - accuracy: 0.5129 - val_loss: 0.6881 - val_accuracy: 0.5263\n",
            "Epoch 2/20\n",
            "15985/16000 [============================>.] - ETA: 0s - loss: 0.6854 - accuracy: 0.5297 F1 Score : 0.670906200317965 ,  AUC Score : 0.5361294816220029 \n",
            "\n",
            "Epoch 00002: val_accuracy improved from 0.52625 to 0.53425, saving model to /content/drive/My Drive/Colab Notebooks/question 20/model_save/weights-02-0.5343.hdf5\n",
            " learning rate :  0.001\n",
            "16000/16000 [==============================] - 25s 2ms/step - loss: 0.6854 - accuracy: 0.5299 - val_loss: 0.6855 - val_accuracy: 0.5343\n",
            "Epoch 3/20\n",
            "15982/16000 [============================>.] - ETA: 0s - loss: 0.6833 - accuracy: 0.5376 F1 Score : 0.6689481268011527 ,  AUC Score : 0.5422569807038593 \n",
            "\n",
            "Epoch 00003: val_accuracy improved from 0.53425 to 0.54050, saving model to /content/drive/My Drive/Colab Notebooks/question 20/model_save/weights-03-0.5405.hdf5\n",
            " learning rate :  0.00095\n",
            "16000/16000 [==============================] - 25s 2ms/step - loss: 0.6833 - accuracy: 0.5377 - val_loss: 0.6849 - val_accuracy: 0.5405\n",
            "Epoch 4/20\n",
            "15972/16000 [============================>.] - ETA: 0s - loss: 0.6830 - accuracy: 0.5426 F1 Score : 0.6694304253785148 ,  AUC Score : 0.5432525008631425 \n",
            "\n",
            "Epoch 00004: val_accuracy improved from 0.54050 to 0.54150, saving model to /content/drive/My Drive/Colab Notebooks/question 20/model_save/weights-04-0.5415.hdf5\n",
            " learning rate :  0.00095\n",
            "16000/16000 [==============================] - 25s 2ms/step - loss: 0.6831 - accuracy: 0.5422 - val_loss: 0.6835 - val_accuracy: 0.5415\n",
            "Epoch 5/20\n",
            "15994/16000 [============================>.] - ETA: 0s - loss: 0.6830 - accuracy: 0.5393 F1 Score : 0.6581700589689937 ,  AUC Score : 0.5521753065499576 \n",
            "\n",
            "Epoch 00005: val_accuracy improved from 0.54150 to 0.55075, saving model to /content/drive/My Drive/Colab Notebooks/question 20/model_save/weights-05-0.5508.hdf5\n",
            " learning rate :  0.00095\n",
            "16000/16000 [==============================] - 25s 2ms/step - loss: 0.6830 - accuracy: 0.5393 - val_loss: 0.6811 - val_accuracy: 0.5508\n",
            "Epoch 6/20\n",
            "15996/16000 [============================>.] - ETA: 0s - loss: 0.6814 - accuracy: 0.5504 F1 Score : 0.545594262295082 ,  AUC Score : 0.5564032671661601 \n",
            "\n",
            "Epoch 00006: val_accuracy improved from 0.55075 to 0.55650, saving model to /content/drive/My Drive/Colab Notebooks/question 20/model_save/weights-06-0.5565.hdf5\n",
            " learning rate :  0.0009025\n",
            "16000/16000 [==============================] - 26s 2ms/step - loss: 0.6814 - accuracy: 0.5504 - val_loss: 0.6798 - val_accuracy: 0.5565\n",
            "Epoch 7/20\n",
            "15998/16000 [============================>.] - ETA: 0s - loss: 0.6789 - accuracy: 0.5649 F1 Score : 0.6714209306471742 ,  AUC Score : 0.5410710816894042 \n",
            "\n",
            "Epoch 00007: val_accuracy did not improve from 0.55650\n",
            " learning rate :  0.00081224996\n",
            "16000/16000 [==============================] - 25s 2ms/step - loss: 0.6789 - accuracy: 0.5649 - val_loss: 0.6866 - val_accuracy: 0.5393\n",
            "Epoch 8/20\n",
            "15969/16000 [============================>.] - ETA: 0s - loss: 0.6747 - accuracy: 0.5776 F1 Score : 0.6684052156469408 ,  AUC Score : 0.5878700293680947 \n",
            "\n",
            "Epoch 00008: val_accuracy improved from 0.55650 to 0.58675, saving model to /content/drive/My Drive/Colab Notebooks/question 20/model_save/weights-08-0.5867.hdf5\n",
            " learning rate :  0.00081224996\n",
            "16000/16000 [==============================] - 25s 2ms/step - loss: 0.6747 - accuracy: 0.5776 - val_loss: 0.6708 - val_accuracy: 0.5867\n",
            "Epoch 9/20\n",
            "15971/16000 [============================>.] - ETA: 0s - loss: 0.6726 - accuracy: 0.5812 F1 Score : 0.5828996282527881 ,  AUC Score : 0.5793011058473934 \n",
            "\n",
            "Epoch 00009: val_accuracy did not improve from 0.58675\n",
            " learning rate :  0.0006944737\n",
            "16000/16000 [==============================] - 25s 2ms/step - loss: 0.6727 - accuracy: 0.5813 - val_loss: 0.6780 - val_accuracy: 0.5792\n",
            "Epoch 10/20\n",
            "15998/16000 [============================>.] - ETA: 0s - loss: 0.6710 - accuracy: 0.5797 F1 Score : 0.6655974338412188 ,  AUC Score : 0.5841233284974021 \n",
            "\n",
            "Epoch 00010: val_accuracy did not improve from 0.58675\n",
            " learning rate :  0.0006944737\n",
            "16000/16000 [==============================] - 26s 2ms/step - loss: 0.6710 - accuracy: 0.5796 - val_loss: 0.6735 - val_accuracy: 0.5830\n"
          ],
          "name": "stdout"
        },
        {
          "output_type": "execute_result",
          "data": {
            "text/plain": [
              "<tensorflow.python.keras.callbacks.History at 0x7f31204f69b0>"
            ]
          },
          "metadata": {
            "tags": []
          },
          "execution_count": 31
        }
      ]
    },
    {
      "cell_type": "code",
      "metadata": {
        "id": "jjvevL4v-Dgp"
      },
      "source": [
        "%tensorboard --logdir logs/fit/ #to launch tensorboard\n",
        "#screenshots have been attached in the seperate pdf file"
      ],
      "execution_count": null,
      "outputs": []
    },
    {
      "cell_type": "code",
      "metadata": {
        "id": "jzxcUBZpAg42",
        "outputId": "ecc901c3-f9e4-445b-c7d2-4932b03c526b",
        "colab": {
          "base_uri": "https://localhost:8080/",
          "height": 34
        }
      },
      "source": [
        "!kill 540"
      ],
      "execution_count": null,
      "outputs": [
        {
          "output_type": "stream",
          "text": [
            "/bin/bash: line 0: kill: (540) - No such process\n"
          ],
          "name": "stdout"
        }
      ]
    },
    {
      "cell_type": "markdown",
      "metadata": {
        "id": "e75BI7BVKXI7"
      },
      "source": [
        "#Model 2"
      ]
    },
    {
      "cell_type": "code",
      "metadata": {
        "id": "eB8eKKOE-ewV"
      },
      "source": [
        "!rm -rf ./logs/"
      ],
      "execution_count": null,
      "outputs": []
    },
    {
      "cell_type": "code",
      "metadata": {
        "id": "vaetCSN5-i50"
      },
      "source": [
        "log_dir = \"logs/fit/\" + datetime.datetime.now().strftime(\"%Y%m%d-%H%M%S\")"
      ],
      "execution_count": null,
      "outputs": []
    },
    {
      "cell_type": "code",
      "metadata": {
        "id": "elfgsYPQ-mGr",
        "outputId": "7e61604f-d67f-466b-bd2b-21fb581cf286",
        "colab": {
          "base_uri": "https://localhost:8080/",
          "height": 34
        }
      },
      "source": [
        "tensorboard_callback = tf.keras.callbacks.TensorBoard(log_dir=log_dir, histogram_freq=1,write_graph=True,write_grads=True)"
      ],
      "execution_count": null,
      "outputs": [
        {
          "output_type": "stream",
          "text": [
            "WARNING:tensorflow:`write_grads` will be ignored in TensorFlow 2.0 for the `TensorBoard` Callback.\n"
          ],
          "name": "stdout"
        }
      ]
    },
    {
      "cell_type": "code",
      "metadata": {
        "id": "X-EhPFSH8pXl"
      },
      "source": [
        "callback_list=[metrics,checkpoint,loss_history,t,ES,tensorboard_callback]"
      ],
      "execution_count": null,
      "outputs": []
    },
    {
      "cell_type": "code",
      "metadata": {
        "id": "iTU3CBy1Ke2x"
      },
      "source": [
        "#Input layer\n",
        "input_layer = Input(shape=(2,))\n",
        "#Dense hidden layer\n",
        "layer1 = Dense(4,activation='relu',kernel_initializer=tf.random_uniform_initializer(minval=0, maxval=1))(input_layer)\n",
        "layer2 = Dense(4,activation='relu',kernel_initializer=tf.random_uniform_initializer(minval=0, maxval=1))(layer1)\n",
        "layer3 = Dense(2,activation='relu',kernel_initializer=tf.random_uniform_initializer(minval=0, maxval=1))(layer2)\n",
        "layer4 = Dense(2,activation='relu',kernel_initializer=tf.random_uniform_initializer(minval=0, maxval=1))(layer3)\n",
        "layer5 = Dense(4,activation='relu',kernel_initializer=tf.random_uniform_initializer(minval=0, maxval=1))(layer4)\n",
        "#output layer\n",
        "output = Dense(1,activation='sigmoid',kernel_initializer=tf.keras.initializers.glorot_normal(seed=0))(layer5)\n",
        "#Creating a model\n",
        "model = Model(inputs=input_layer,outputs=output)"
      ],
      "execution_count": null,
      "outputs": []
    },
    {
      "cell_type": "code",
      "metadata": {
        "id": "0sqvWqORKliN"
      },
      "source": [
        " optimizer = tf.keras.optimizers.SGD(learning_rate=0.001,momentum=0.9)\n",
        " model.compile(optimizer=optimizer,\n",
        "                loss='binary_crossentropy',\n",
        "                metrics=['accuracy'])"
      ],
      "execution_count": null,
      "outputs": []
    },
    {
      "cell_type": "code",
      "metadata": {
        "id": "Zl1UzJcVKpZA",
        "outputId": "e8bfb1d9-eef9-4f34-842b-bc706a931533",
        "colab": {
          "base_uri": "https://localhost:8080/",
          "height": 748
        }
      },
      "source": [
        "model.fit(X_train,y_train,epochs=20,validation_data=(X_test,y_test),batch_size=1,callbacks=callback_list)\n"
      ],
      "execution_count": null,
      "outputs": [
        {
          "output_type": "stream",
          "text": [
            "Epoch 1/20\n",
            "15999/16000 [============================>.] - ETA: 0s - loss: 0.6738 - accuracy: 0.5738 F1 Score : 0.6778864970645793 ,  AUC Score : 0.5897606926540262 \n",
            "\n",
            "Epoch 00001: val_accuracy improved from -inf to 0.58850, saving model to /content/drive/My Drive/Colab Notebooks/question 20/model_save/weights-01-0.5885.hdf5\n",
            " learning rate :  0.001\n",
            "16000/16000 [==============================] - 25s 2ms/step - loss: 0.6738 - accuracy: 0.5738 - val_loss: 0.6695 - val_accuracy: 0.5885\n",
            "Epoch 2/20\n",
            "15992/16000 [============================>.] - ETA: 0s - loss: 0.6513 - accuracy: 0.6184 F1 Score : 0.6813736638617239 ,  AUC Score : 0.650209791748283 \n",
            "\n",
            "Epoch 00002: val_accuracy improved from 0.58850 to 0.64975, saving model to /content/drive/My Drive/Colab Notebooks/question 20/model_save/weights-02-0.6497.hdf5\n",
            " learning rate :  0.001\n",
            "16000/16000 [==============================] - 26s 2ms/step - loss: 0.6512 - accuracy: 0.6184 - val_loss: 0.6192 - val_accuracy: 0.6497\n",
            "Epoch 3/20\n",
            "15965/16000 [============================>.] - ETA: 0s - loss: 0.6188 - accuracy: 0.6570 F1 Score : 0.6058309037900875 ,  AUC Score : 0.6613721427858915 \n",
            "\n",
            "Epoch 00003: val_accuracy improved from 0.64975 to 0.66200, saving model to /content/drive/My Drive/Colab Notebooks/question 20/model_save/weights-03-0.6620.hdf5\n",
            " learning rate :  0.00095\n",
            "16000/16000 [==============================] - 26s 2ms/step - loss: 0.6184 - accuracy: 0.6574 - val_loss: 0.6326 - val_accuracy: 0.6620\n",
            "Epoch 4/20\n",
            "15977/16000 [============================>.] - ETA: 0s - loss: 0.6153 - accuracy: 0.6584 F1 Score : 0.6810185185185186 ,  AUC Score : 0.6558732814339491 \n",
            "\n",
            "Epoch 00004: val_accuracy did not improve from 0.66200\n",
            " learning rate :  0.000855\n",
            "16000/16000 [==============================] - 25s 2ms/step - loss: 0.6151 - accuracy: 0.6587 - val_loss: 0.6146 - val_accuracy: 0.6555\n",
            "Epoch 5/20\n",
            "15989/16000 [============================>.] - ETA: 0s - loss: 0.6137 - accuracy: 0.6618 F1 Score : 0.6858490566037736 ,  AUC Score : 0.6672835124911279 \n",
            "\n",
            "Epoch 00005: val_accuracy improved from 0.66200 to 0.66700, saving model to /content/drive/My Drive/Colab Notebooks/question 20/model_save/weights-05-0.6670.hdf5\n",
            " learning rate :  0.000855\n",
            "16000/16000 [==============================] - 26s 2ms/step - loss: 0.6137 - accuracy: 0.6619 - val_loss: 0.6117 - val_accuracy: 0.6670\n",
            "Epoch 6/20\n",
            "15985/16000 [============================>.] - ETA: 0s - loss: 0.6130 - accuracy: 0.6636 F1 Score : 0.6353576248313091 ,  AUC Score : 0.6619315291134645 \n",
            "\n",
            "Epoch 00006: val_accuracy did not improve from 0.66700\n",
            " learning rate :  0.00073102495\n",
            "16000/16000 [==============================] - 25s 2ms/step - loss: 0.6130 - accuracy: 0.6636 - val_loss: 0.6108 - val_accuracy: 0.6622\n",
            "Epoch 7/20\n",
            "15972/16000 [============================>.] - ETA: 0s - loss: 0.6108 - accuracy: 0.6608 F1 Score : 0.6722358722358723 ,  AUC Score : 0.666592248493032 \n",
            "\n",
            "Epoch 00007: val_accuracy did not improve from 0.66700\n",
            " learning rate :  0.00073102495\n",
            "16000/16000 [==============================] - 25s 2ms/step - loss: 0.6109 - accuracy: 0.6609 - val_loss: 0.6112 - val_accuracy: 0.6665\n"
          ],
          "name": "stdout"
        },
        {
          "output_type": "execute_result",
          "data": {
            "text/plain": [
              "<tensorflow.python.keras.callbacks.History at 0x7fa8177b8a20>"
            ]
          },
          "metadata": {
            "tags": []
          },
          "execution_count": 32
        }
      ]
    },
    {
      "cell_type": "code",
      "metadata": {
        "id": "m9fZUiIV-xKI"
      },
      "source": [
        "%tensorboard --logdir logs/fit/\n",
        "#to launch tensorboard\n",
        "#screenshots have been attached in the seperate pdf file"
      ],
      "execution_count": null,
      "outputs": []
    },
    {
      "cell_type": "markdown",
      "metadata": {
        "id": "ey4ssyc4Kf7W"
      },
      "source": [
        "#Model 3"
      ]
    },
    {
      "cell_type": "code",
      "metadata": {
        "id": "UC-kKFwC-f_j"
      },
      "source": [
        "!rm -rf ./logs/"
      ],
      "execution_count": null,
      "outputs": []
    },
    {
      "cell_type": "code",
      "metadata": {
        "id": "T6_2pP3U-j2X"
      },
      "source": [
        "log_dir = \"logs/fit/\" + datetime.datetime.now().strftime(\"%Y%m%d-%H%M%S\")"
      ],
      "execution_count": null,
      "outputs": []
    },
    {
      "cell_type": "code",
      "metadata": {
        "id": "RMQ2Z9Cp-s7y"
      },
      "source": [
        "tensorboard_callback = tf.keras.callbacks.TensorBoard(log_dir=log_dir, histogram_freq=1,write_graph=True)"
      ],
      "execution_count": null,
      "outputs": []
    },
    {
      "cell_type": "code",
      "metadata": {
        "id": "1CEL-YY48qzY"
      },
      "source": [
        "callback_list=[metrics,checkpoint,loss_history,t,ES,tensorboard_callback]"
      ],
      "execution_count": null,
      "outputs": []
    },
    {
      "cell_type": "code",
      "metadata": {
        "id": "e8QMbMU1KhgM"
      },
      "source": [
        "#Input layer\n",
        "input_layer = Input(shape=(2,))\n",
        "#Dense hidden layer\n",
        "layer1 = Dense(4,activation='relu',kernel_initializer=tf.keras.initializers.he_uniform())(input_layer)\n",
        "layer2 = Dense(4,activation='relu',kernel_initializer=tf.keras.initializers.he_uniform())(layer1)\n",
        "layer3 = Dense(2,activation='relu',kernel_initializer=tf.keras.initializers.he_uniform())(layer2)\n",
        "layer4 = Dense(2,activation='relu',kernel_initializer=tf.keras.initializers.he_uniform())(layer3)\n",
        "layer5 = Dense(4,activation='relu',kernel_initializer=tf.keras.initializers.he_uniform())(layer4)\n",
        "#output layer\n",
        "output = Dense(1,activation='sigmoid',kernel_initializer=tf.keras.initializers.glorot_normal(seed=0))(layer5)\n",
        "#Creating a model\n",
        "model = Model(inputs=input_layer,outputs=output)"
      ],
      "execution_count": null,
      "outputs": []
    },
    {
      "cell_type": "code",
      "metadata": {
        "id": "JVoWW000KmQ5"
      },
      "source": [
        " optimizer = tf.keras.optimizers.SGD(learning_rate=0.001,momentum=0.9)\n",
        " model.compile(optimizer=optimizer,\n",
        "                loss='binary_crossentropy',\n",
        "                metrics=['accuracy'])"
      ],
      "execution_count": null,
      "outputs": []
    },
    {
      "cell_type": "code",
      "metadata": {
        "id": "Zo1zGPWiKqLN",
        "outputId": "a67115ee-801d-4b5e-c5c7-75e359f1ba61",
        "colab": {
          "base_uri": "https://localhost:8080/",
          "height": 646
        }
      },
      "source": [
        "model.fit(X_train,y_train,epochs=20,validation_data=(X_test,y_test),batch_size=1,callbacks=callback_list)\n"
      ],
      "execution_count": null,
      "outputs": [
        {
          "output_type": "stream",
          "text": [
            "Epoch 1/20\n",
            "15988/16000 [============================>.] - ETA: 0s - loss: 0.6869 - accuracy: 0.5289 F1 Score : 0.6614612381483548 ,  AUC Score : 0.546312437826866 \n",
            "\n",
            "Epoch 00001: val_accuracy improved from 0.50225 to 0.54475, saving model to /content/drive/My Drive/Colab Notebooks/question 20/model_save/weights-01-0.5447.hdf5\n",
            " learning rate :  0.001\n",
            "16000/16000 [==============================] - 26s 2ms/step - loss: 0.6869 - accuracy: 0.5289 - val_loss: 0.6833 - val_accuracy: 0.5447\n",
            "Epoch 2/20\n",
            "15977/16000 [============================>.] - ETA: 0s - loss: 0.6837 - accuracy: 0.5336 F1 Score : 0.0 ,  AUC Score : 0.5 \n",
            "\n",
            "Epoch 00002: val_accuracy did not improve from 0.54475\n",
            " learning rate :  0.00090000004\n",
            "16000/16000 [==============================] - 26s 2ms/step - loss: 0.6837 - accuracy: 0.5332 - val_loss: 0.6828 - val_accuracy: 0.5023\n",
            "Epoch 3/20\n",
            "15964/16000 [============================>.] - ETA: 0s - loss: 0.6827 - accuracy: 0.5346 F1 Score : 0.6558873882442458 ,  AUC Score : 0.5491752457987275 \n",
            "\n",
            "Epoch 00003: val_accuracy improved from 0.54475 to 0.54775, saving model to /content/drive/My Drive/Colab Notebooks/question 20/model_save/weights-03-0.5477.hdf5\n",
            " learning rate :  0.00085500005\n",
            "16000/16000 [==============================] - 26s 2ms/step - loss: 0.6828 - accuracy: 0.5346 - val_loss: 0.6817 - val_accuracy: 0.5477\n",
            "Epoch 4/20\n",
            "15971/16000 [============================>.] - ETA: 0s - loss: 0.6822 - accuracy: 0.5417 F1 Score : 0.6540375047837734 ,  AUC Score : 0.5493903751550969 \n",
            "\n",
            "Epoch 00004: val_accuracy improved from 0.54775 to 0.54800, saving model to /content/drive/My Drive/Colab Notebooks/question 20/model_save/weights-04-0.5480.hdf5\n",
            " learning rate :  0.00085500005\n",
            "16000/16000 [==============================] - 26s 2ms/step - loss: 0.6822 - accuracy: 0.5418 - val_loss: 0.6818 - val_accuracy: 0.5480\n",
            "Epoch 5/20\n",
            "15977/16000 [============================>.] - ETA: 0s - loss: 0.6821 - accuracy: 0.5420 F1 Score : 0.6422700587084149 ,  AUC Score : 0.5442597712603681 \n",
            "\n",
            "Epoch 00005: val_accuracy did not improve from 0.54800\n",
            " learning rate :  0.00076950004\n",
            "16000/16000 [==============================] - 26s 2ms/step - loss: 0.6821 - accuracy: 0.5421 - val_loss: 0.6838 - val_accuracy: 0.5430\n",
            "Epoch 6/20\n",
            "15992/16000 [============================>.] - ETA: 0s - loss: 0.6820 - accuracy: 0.5404 F1 Score : 0.6527485156100364 ,  AUC Score : 0.5481347247281758 \n",
            "\n",
            "Epoch 00006: val_accuracy did not improve from 0.54800\n",
            " learning rate :  0.000731025\n",
            "16000/16000 [==============================] - 26s 2ms/step - loss: 0.6820 - accuracy: 0.5405 - val_loss: 0.6814 - val_accuracy: 0.5468\n"
          ],
          "name": "stdout"
        },
        {
          "output_type": "execute_result",
          "data": {
            "text/plain": [
              "<tensorflow.python.keras.callbacks.History at 0x7fabcbeea5f8>"
            ]
          },
          "metadata": {
            "tags": []
          },
          "execution_count": 38
        }
      ]
    },
    {
      "cell_type": "code",
      "metadata": {
        "id": "p-MWviBOD4I9",
        "outputId": "5f397e4b-e9c2-47fa-fa6d-5f026f9f603e",
        "colab": {
          "base_uri": "https://localhost:8080/",
          "height": 34
        }
      },
      "source": [
        " !kill 1257"
      ],
      "execution_count": null,
      "outputs": [
        {
          "output_type": "stream",
          "text": [
            "/bin/bash: line 0: kill: (1257) - No such process\n"
          ],
          "name": "stdout"
        }
      ]
    },
    {
      "cell_type": "code",
      "metadata": {
        "id": "CAFFc0Hn-yFm"
      },
      "source": [
        "%tensorboard --logdir logs/fit/\n",
        "#to launch tensorboard\n",
        "#screenshots have been attached in the seperate pdf file"
      ],
      "execution_count": null,
      "outputs": []
    },
    {
      "cell_type": "markdown",
      "metadata": {
        "id": "vt-4LOCdKiOO"
      },
      "source": [
        "#Model 4"
      ]
    },
    {
      "cell_type": "code",
      "metadata": {
        "id": "1bdfksl3-g4h"
      },
      "source": [
        "!rm -rf ./logs/"
      ],
      "execution_count": null,
      "outputs": []
    },
    {
      "cell_type": "code",
      "metadata": {
        "id": "j1N0N0Ic-pXi"
      },
      "source": [
        "log_dir = \"logs/fit/\" + datetime.datetime.now().strftime(\"%Y%m%d-%H%M%S\")"
      ],
      "execution_count": null,
      "outputs": []
    },
    {
      "cell_type": "code",
      "metadata": {
        "id": "Zjr2fgu6-tyv"
      },
      "source": [
        "tensorboard_callback = tf.keras.callbacks.TensorBoard(log_dir=log_dir, histogram_freq=1)"
      ],
      "execution_count": null,
      "outputs": []
    },
    {
      "cell_type": "code",
      "metadata": {
        "id": "BSpwVqpp8sFz"
      },
      "source": [
        "callback_list=[metrics,checkpoint,loss_history,t,ES,tensorboard_callback]"
      ],
      "execution_count": null,
      "outputs": []
    },
    {
      "cell_type": "code",
      "metadata": {
        "id": "TVzZ312-Kj9O"
      },
      "source": [
        "#Input layer\n",
        "input_layer = Input(shape=(2,))\n",
        "#Dense hidden layer\n",
        "layer1 = Dense(4,activation='tanh',kernel_initializer=tf.keras.initializers.glorot_normal(seed=30))(input_layer)\n",
        "layer2 = Dense(4,activation='tanh',kernel_initializer=tf.keras.initializers.glorot_normal(seed=30))(layer1)\n",
        "layer3 = Dense(2,activation='tanh',kernel_initializer=tf.keras.initializers.glorot_normal(seed=30))(layer2)\n",
        "layer4 = Dense(2,activation='tanh',kernel_initializer=tf.keras.initializers.glorot_normal(seed=30))(layer3)\n",
        "layer5 = Dense(4,activation='tanh',kernel_initializer=tf.keras.initializers.glorot_normal(seed=30))(layer4)\n",
        "#output layer\n",
        "output = Dense(1,activation='sigmoid',kernel_initializer=tf.keras.initializers.glorot_normal(seed=0))(layer5)\n",
        "#Creating a model\n",
        "model = Model(inputs=input_layer,outputs=output)"
      ],
      "execution_count": null,
      "outputs": []
    },
    {
      "cell_type": "code",
      "metadata": {
        "id": "S_Hlk9Y9Knt6"
      },
      "source": [
        " optimizer = tf.keras.optimizers.SGD(learning_rate=0.001,momentum=0.9)\n",
        " model.compile(optimizer='adam',\n",
        "                loss='binary_crossentropy',\n",
        "                metrics=['accuracy'])"
      ],
      "execution_count": null,
      "outputs": []
    },
    {
      "cell_type": "code",
      "metadata": {
        "id": "CBSgQzvkKrFV",
        "outputId": "0fa375d7-2605-44a4-8dec-fe550b35720b",
        "colab": {
          "base_uri": "https://localhost:8080/",
          "height": 442
        }
      },
      "source": [
        "model.fit(X_train,y_train,epochs=30,validation_data=(X_test,y_test),batch_size=20,callbacks=callback_list)\n"
      ],
      "execution_count": null,
      "outputs": [
        {
          "output_type": "stream",
          "text": [
            "Epoch 1/30\n",
            "798/800 [============================>.] - ETA: 0s - loss: 0.6856 - accuracy: 0.5568 F1 Score : 0.6434216643421664 ,  AUC Score : 0.6168522412578854 \n",
            "\n",
            "Epoch 00001: val_accuracy improved from -inf to 0.61650, saving model to /content/drive/My Drive/Colab Notebooks/question 20/model_save/weights-01-0.6165.hdf5\n",
            " learning rate :  0.001\n",
            "800/800 [==============================] - 2s 2ms/step - loss: 0.6856 - accuracy: 0.5569 - val_loss: 0.6724 - val_accuracy: 0.6165\n",
            "Epoch 2/30\n",
            "771/800 [===========================>..] - ETA: 0s - loss: 0.6440 - accuracy: 0.6379 F1 Score : 0.6613939693524469 ,  AUC Score : 0.6575650656925802 \n",
            "\n",
            "Epoch 00002: val_accuracy improved from 0.61650 to 0.65750, saving model to /content/drive/My Drive/Colab Notebooks/question 20/model_save/weights-02-0.6575.hdf5\n",
            " learning rate :  0.001\n",
            "800/800 [==============================] - 2s 2ms/step - loss: 0.6432 - accuracy: 0.6381 - val_loss: 0.6166 - val_accuracy: 0.6575\n",
            "Epoch 3/30\n",
            "798/800 [============================>.] - ETA: 0s - loss: 0.6145 - accuracy: 0.6618 F1 Score : 0.6454615981380916 ,  AUC Score : 0.6571136815520514 \n",
            "\n",
            "Epoch 00003: val_accuracy did not improve from 0.65750\n",
            " learning rate :  0.00085500005\n",
            "800/800 [==============================] - 2s 2ms/step - loss: 0.6145 - accuracy: 0.6618 - val_loss: 0.6168 - val_accuracy: 0.6572\n",
            "Epoch 4/30\n",
            "767/800 [===========================>..] - ETA: 0s - loss: 0.6105 - accuracy: 0.6675 F1 Score : 0.6555913711877015 ,  AUC Score : 0.6528003442069702 \n",
            "\n",
            "Epoch 00004: val_accuracy did not improve from 0.65750\n",
            " learning rate :  0.00076950004\n",
            "800/800 [==============================] - 2s 2ms/step - loss: 0.6100 - accuracy: 0.6678 - val_loss: 0.6129 - val_accuracy: 0.6528\n"
          ],
          "name": "stdout"
        },
        {
          "output_type": "execute_result",
          "data": {
            "text/plain": [
              "<tensorflow.python.keras.callbacks.History at 0x7fe9b2956828>"
            ]
          },
          "metadata": {
            "tags": []
          },
          "execution_count": 30
        }
      ]
    },
    {
      "cell_type": "code",
      "metadata": {
        "id": "yNFmxGaLZSEP",
        "colab": {
          "base_uri": "https://localhost:8080/",
          "height": 34
        },
        "outputId": "22f70fbf-f242-4bc7-fd5b-56784c7bd1dd"
      },
      "source": [
        "!kill 3029"
      ],
      "execution_count": null,
      "outputs": [
        {
          "output_type": "stream",
          "text": [
            "/bin/bash: line 0: kill: (3029) - No such process\n"
          ],
          "name": "stdout"
        }
      ]
    },
    {
      "cell_type": "code",
      "metadata": {
        "id": "KM9cYq3k-zbF"
      },
      "source": [
        "%tensorboard --logdir logs/fit/\n",
        "#to launch tensorboard\n",
        "#screenshots have been attached in the seperate pdf file"
      ],
      "execution_count": null,
      "outputs": []
    }
  ]
}